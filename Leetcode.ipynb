{
  "nbformat": 4,
  "nbformat_minor": 0,
  "metadata": {
    "colab": {
      "private_outputs": true,
      "provenance": [],
      "authorship_tag": "ABX9TyOKJ5iW/g3gCp/KWnA82JWl",
      "include_colab_link": true
    },
    "kernelspec": {
      "name": "python3",
      "display_name": "Python 3"
    },
    "language_info": {
      "name": "python"
    }
  },
  "cells": [
    {
      "cell_type": "markdown",
      "metadata": {
        "id": "view-in-github",
        "colab_type": "text"
      },
      "source": [
        "<a href=\"https://colab.research.google.com/github/shubham100827/leetcode_practice/blob/main/Leetcode.ipynb\" target=\"_parent\"><img src=\"https://colab.research.google.com/assets/colab-badge.svg\" alt=\"Open In Colab\"/></a>"
      ]
    },
    {
      "cell_type": "markdown",
      "source": [
        "Given an array of integers nums and an integer target, return indices of the two numbers such that they add up to target.\n",
        "You may assume that each input would have exactly one solution, and you may not use the same element twice.\n",
        "You can return the answer in any order.\n",
        "\n",
        "Example 1:\n",
        "Input: nums = [2,7,11,15], target = 9\n",
        "Output: [0,1]\n",
        "Explanation: Because nums[0] + nums[1] == 9, we return [0, 1].\n",
        "\n",
        "Example 2:\n",
        "Input: nums = [3,2,4], target = 6\n",
        "Output: [1,2]"
      ],
      "metadata": {
        "id": "qSF0-WBlChJH"
      }
    },
    {
      "cell_type": "code",
      "source": [
        "def two_sum(nums, target):\n",
        "    num_map = {}\n",
        "\n",
        "    for i, num in enumerate(nums):\n",
        "        complement = target - num\n",
        "        if complement in num_map:\n",
        "            print(num_map)\n",
        "            return [num_map[complement], i]\n",
        "        num_map[num] = i\n",
        "    return []\n",
        "\n",
        "# Test cases\n",
        "print(two_sum([3,2,4], 6))\n"
      ],
      "metadata": {
        "id": "P27YUFwVyI_a"
      },
      "execution_count": null,
      "outputs": []
    },
    {
      "cell_type": "markdown",
      "source": [
        "Given two sorted arrays nums1 and nums2 of size m and n respectively, return the median of the two sorted arrays.\n",
        "\n",
        "The overall run time complexity should be O(log (m+n)).\n",
        "\n",
        "\n",
        "\n",
        "Example 1:\n",
        "\n",
        "Input: nums1 = [1,3], nums2 = [2]\n",
        "Output: 2.00000\n",
        "Explanation: merged array = [1,2,3] and median is 2.\n",
        "Example 2:\n",
        "\n",
        "Input: nums1 = [1,2], nums2 = [3,4]\n",
        "Output: 2.50000\n",
        "Explanation: merged array = [1,2,3,4] and median is (2 + 3) / 2 = 2.5."
      ],
      "metadata": {
        "id": "XoPkQpm3Clly"
      }
    },
    {
      "cell_type": "code",
      "source": [
        "class Solution:\n",
        "    def median(self, num_list):\n",
        "        med_index = num_list//2\n",
        "        if len(num_list) % 2 == 0:\n",
        "            median = (num_list[med_index] + num_list[med_index+1])/2\n",
        "        else:\n",
        "            median = num_list[med_index+1]\n",
        "        return median\n",
        "\n",
        "    def findMedianSortedArrays(self, nums1: List[int], nums2: List[int]) -> float:\n",
        "        median1 = median(nums1)\n",
        "        median2 = median(nums2)\n",
        "        return (median1 + median2)/2"
      ],
      "metadata": {
        "id": "Myehz5yi8hWc"
      },
      "execution_count": null,
      "outputs": []
    },
    {
      "cell_type": "markdown",
      "source": [],
      "metadata": {
        "id": "GotR9bpSCxA9"
      }
    },
    {
      "cell_type": "code",
      "source": [
        "class Solution:\n",
        "    def maxArea(self, height: List[int]) -> int:\n",
        "        max_area = 0\n",
        "        left = 0\n",
        "        right = len(height) - 1\n",
        "\n",
        "        while left < right:\n",
        "            max_area = max(max_area, (right - left) * min(height[left], height[right]))\n",
        "\n",
        "            if height[left] < height[right]:\n",
        "                left += 1\n",
        "            else:\n",
        "                right -= 1\n",
        "\n",
        "        return max_area"
      ],
      "metadata": {
        "id": "LKwrJpf-XNU5"
      },
      "execution_count": null,
      "outputs": []
    },
    {
      "cell_type": "markdown",
      "source": [
        "You are given two strings word1 and word2. Merge the strings by adding letters in alternating order, starting with word1. If a string is longer than the other, append the additional letters onto the end of the merged string.\n",
        "\n",
        "Return the merged string."
      ],
      "metadata": {
        "id": "4gLQSn_RINiG"
      }
    },
    {
      "cell_type": "code",
      "source": [
        "def mergeAlternately(word1: str, word2: str) -> str:\n",
        "    final_word_char_list = []\n",
        "    print(\"hey\")\n",
        "    while (word1 != \"\") and (word2 != \"\"):\n",
        "        print(word1, word2)\n",
        "        final_word_char_list.append(word1[0])\n",
        "        final_word_char_list.append(word2[0])\n",
        "        word1 = word1[1:]; word2 = word2[1:]\n",
        "    if (word1 == \"\"):\n",
        "        final_word_char_list.append(word2)\n",
        "    else:\n",
        "        final_word_char_list.append(word1)\n",
        "\n",
        "    return \"\".join(final_word_char_list)\n",
        "\n",
        "word1 = \"ab\"\n",
        "word2 = \"pqrs\"\n",
        "mergeAlternately(word1, word2)"
      ],
      "metadata": {
        "id": "EKCg9iuIFJ-1"
      },
      "execution_count": null,
      "outputs": []
    },
    {
      "cell_type": "markdown",
      "source": [
        "For two strings s and t, we say \"t divides s\" if and only if s = t + t + t + ... + t + t (i.e., t is concatenated with itself one or more times).\n",
        "\n",
        "Given two strings str1 and str2, return the largest string x such that x divides both str1 and str2."
      ],
      "metadata": {
        "id": "TO5QkBRQeTdy"
      }
    },
    {
      "cell_type": "code",
      "source": [
        "def gcd_of_strings(str1, str2):\n",
        "    if str1 + str2 != str2 + str1:\n",
        "        return \"\"\n",
        "\n",
        "    from math import gcd\n",
        "    gcd_len = gcd(len(str1), len(str2))\n",
        "\n",
        "    return str1[:gcd_len]\n"
      ],
      "metadata": {
        "id": "QPBmbH9YI8bT"
      },
      "execution_count": null,
      "outputs": []
    },
    {
      "cell_type": "markdown",
      "source": [
        "There are n kids with candies. You are given an integer array candies, where each candies[i] represents the number of candies the ith kid has, and an integer extraCandies, denoting the number of extra candies that you have.\n",
        "\n",
        "Return a boolean array result of length n, where result[i] is true if, after giving the ith kid all the extraCandies, they will have the greatest number of candies among all the kids, or false otherwise.\n",
        "\n",
        "Note that multiple kids can have the greatest number of candies.\n",
        "\n"
      ],
      "metadata": {
        "id": "S5Eu61J8FuLG"
      }
    },
    {
      "cell_type": "code",
      "source": [
        "class Solution:\n",
        "    def kidsWithCandies(self, candies: List[int], extraCandies: int) -> List[bool]:\n",
        "        max_candies = max(candies)\n",
        "        return [True if (ith_count + extraCandies) >= max_candies else False for ith_count in candies]"
      ],
      "metadata": {
        "id": "48qSdnq8Fujg"
      },
      "execution_count": null,
      "outputs": []
    },
    {
      "cell_type": "markdown",
      "source": [],
      "metadata": {
        "id": "UtxHdKim_8hy"
      }
    },
    {
      "cell_type": "code",
      "source": [
        "insie = [1,0,0,0,0,1]\n",
        "def canPlaceFlowers( flowerbed, n) -> bool:\n",
        "    available_vacancies = 0\n",
        "    for i in range(len(flowerbed)):\n",
        "        if (i != 0):\n",
        "            if not any(flowerbed[i-1: i+2]):\n",
        "                available_vacancies += 1\n",
        "                flowerbed[i] = 1\n",
        "        else:\n",
        "            if not any(flowerbed[i: i+2]):\n",
        "                flowerbed[i] = 1\n",
        "                available_vacancies += 1\n",
        "    if available_vacancies >= n:\n",
        "        return True\n",
        "    else:\n",
        "        return False\n",
        "canPlaceFlowers(insie, 1)"
      ],
      "metadata": {
        "id": "9erKSNlpOTvM"
      },
      "execution_count": null,
      "outputs": []
    },
    {
      "cell_type": "markdown",
      "source": [],
      "metadata": {
        "id": "V95FX9xy_2FH"
      }
    },
    {
      "cell_type": "code",
      "source": [
        "def reverseWords(s):\n",
        "    word_list = [i for i in s.split(\" \") if i != \"\"]\n",
        "    word_list.reverse()\n",
        "\n",
        "    return \" \".join(word_list)\n",
        "\n",
        "s = \"  hello world  \"\n",
        "reverseWords(s)\n",
        "# output : \"world hello\""
      ],
      "metadata": {
        "id": "n_lLueYI89j2"
      },
      "execution_count": null,
      "outputs": []
    },
    {
      "cell_type": "markdown",
      "source": [
        "Given an integer array nums, return an array answer such that answer[i] is equal to the product of all the elements of nums except nums[i].\n",
        "\n",
        "The product of any prefix or suffix of nums is guaranteed to fit in a 32-bit integer.\n",
        "\n",
        "You must write an algorithm that runs in O(n) time and without using the division operation."
      ],
      "metadata": {
        "id": "KboqdZKaBQeu"
      }
    },
    {
      "cell_type": "code",
      "source": [
        "class Solution:\n",
        "    def productExceptSelf(self, nums: List[int]) -> List[int]:\n",
        "        n = len(nums)\n",
        "        output = [1] * n\n",
        "\n",
        "        # Compute prefix products\n",
        "        prefix = 1\n",
        "        for i in range(n):\n",
        "            output[i] = prefix\n",
        "            prefix *= nums[i]\n",
        "\n",
        "        # Compute suffix products and multiply with prefix\n",
        "        suffix = 1\n",
        "        for i in range(n - 1, -1, -1):\n",
        "            output[i] *= suffix\n",
        "            suffix *= nums[i]\n",
        "\n",
        "        return output\n"
      ],
      "metadata": {
        "id": "VpzXaaB0_0XJ"
      },
      "execution_count": null,
      "outputs": []
    }
  ]
}