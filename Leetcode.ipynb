{
  "nbformat": 4,
  "nbformat_minor": 0,
  "metadata": {
    "colab": {
      "private_outputs": true,
      "provenance": [],
      "authorship_tag": "ABX9TyNszHxcFZlyC7Mdxi7hrLYB",
      "include_colab_link": true
    },
    "kernelspec": {
      "name": "python3",
      "display_name": "Python 3"
    },
    "language_info": {
      "name": "python"
    }
  },
  "cells": [
    {
      "cell_type": "markdown",
      "metadata": {
        "id": "view-in-github",
        "colab_type": "text"
      },
      "source": [
        "<a href=\"https://colab.research.google.com/github/shubham100827/leetcode_practice/blob/main/Leetcode.ipynb\" target=\"_parent\"><img src=\"https://colab.research.google.com/assets/colab-badge.svg\" alt=\"Open In Colab\"/></a>"
      ]
    },
    {
      "cell_type": "markdown",
      "source": [
        "Given an array of integers nums and an integer target, return indices of the two numbers such that they add up to target.\n",
        "You may assume that each input would have exactly one solution, and you may not use the same element twice.\n",
        "You can return the answer in any order.\n",
        "\n",
        "Example 1:\n",
        "Input: nums = [2,7,11,15], target = 9\n",
        "Output: [0,1]\n",
        "Explanation: Because nums[0] + nums[1] == 9, we return [0, 1].\n",
        "\n",
        "Example 2:\n",
        "Input: nums = [3,2,4], target = 6\n",
        "Output: [1,2]"
      ],
      "metadata": {
        "id": "qSF0-WBlChJH"
      }
    },
    {
      "cell_type": "code",
      "source": [
        "def two_sum(nums, target):\n",
        "    num_map = {}\n",
        "\n",
        "    for i, num in enumerate(nums):\n",
        "        complement = target - num\n",
        "        if complement in num_map:\n",
        "            print(num_map)\n",
        "            return [num_map[complement], i]\n",
        "        num_map[num] = i\n",
        "    return []\n",
        "\n",
        "# Test cases\n",
        "print(two_sum([3,2,4], 6))\n"
      ],
      "metadata": {
        "id": "P27YUFwVyI_a"
      },
      "execution_count": null,
      "outputs": []
    },
    {
      "cell_type": "markdown",
      "source": [
        "Given two sorted arrays nums1 and nums2 of size m and n respectively, return the median of the two sorted arrays.\n",
        "\n",
        "The overall run time complexity should be O(log (m+n)).\n",
        "\n",
        "\n",
        "\n",
        "Example 1:\n",
        "\n",
        "Input: nums1 = [1,3], nums2 = [2]\n",
        "Output: 2.00000\n",
        "Explanation: merged array = [1,2,3] and median is 2.\n",
        "Example 2:\n",
        "\n",
        "Input: nums1 = [1,2], nums2 = [3,4]\n",
        "Output: 2.50000\n",
        "Explanation: merged array = [1,2,3,4] and median is (2 + 3) / 2 = 2.5."
      ],
      "metadata": {
        "id": "XoPkQpm3Clly"
      }
    },
    {
      "cell_type": "code",
      "source": [
        "class Solution:\n",
        "    def median(self, num_list):\n",
        "        med_index = num_list//2\n",
        "        if len(num_list) % 2 == 0:\n",
        "            median = (num_list[med_index] + num_list[med_index+1])/2\n",
        "        else:\n",
        "            median = num_list[med_index+1]\n",
        "        return median\n",
        "\n",
        "    def findMedianSortedArrays(self, nums1: List[int], nums2: List[int]) -> float:\n",
        "        median1 = median(nums1)\n",
        "        median2 = median(nums2)\n",
        "        return (median1 + median2)/2"
      ],
      "metadata": {
        "id": "Myehz5yi8hWc"
      },
      "execution_count": null,
      "outputs": []
    },
    {
      "cell_type": "markdown",
      "source": [],
      "metadata": {
        "id": "GotR9bpSCxA9"
      }
    },
    {
      "cell_type": "code",
      "source": [
        "class Solution:\n",
        "    def maxArea(self, height: List[int]) -> int:\n",
        "        max_area = 0\n",
        "        left = 0\n",
        "        right = len(height) - 1\n",
        "\n",
        "        while left < right:\n",
        "            max_area = max(max_area, (right - left) * min(height[left], height[right]))\n",
        "\n",
        "            if height[left] < height[right]:\n",
        "                left += 1\n",
        "            else:\n",
        "                right -= 1\n",
        "\n",
        "        return max_area"
      ],
      "metadata": {
        "id": "LKwrJpf-XNU5"
      },
      "execution_count": null,
      "outputs": []
    },
    {
      "cell_type": "markdown",
      "source": [
        "You are given two strings word1 and word2. Merge the strings by adding letters in alternating order, starting with word1. If a string is longer than the other, append the additional letters onto the end of the merged string.\n",
        "\n",
        "Return the merged string."
      ],
      "metadata": {
        "id": "4gLQSn_RINiG"
      }
    },
    {
      "cell_type": "code",
      "source": [
        "def mergeAlternately(word1: str, word2: str) -> str:\n",
        "    final_word_char_list = []\n",
        "    print(\"hey\")\n",
        "    while (word1 != \"\") and (word2 != \"\"):\n",
        "        print(word1, word2)\n",
        "        final_word_char_list.append(word1[0])\n",
        "        final_word_char_list.append(word2[0])\n",
        "        word1 = word1[1:]; word2 = word2[1:]\n",
        "    if (word1 == \"\"):\n",
        "        final_word_char_list.append(word2)\n",
        "    else:\n",
        "        final_word_char_list.append(word1)\n",
        "\n",
        "    return \"\".join(final_word_char_list)\n",
        "\n",
        "word1 = \"ab\"\n",
        "word2 = \"pqrs\"\n",
        "mergeAlternately(word1, word2)"
      ],
      "metadata": {
        "id": "EKCg9iuIFJ-1"
      },
      "execution_count": null,
      "outputs": []
    },
    {
      "cell_type": "markdown",
      "source": [
        "For two strings s and t, we say \"t divides s\" if and only if s = t + t + t + ... + t + t (i.e., t is concatenated with itself one or more times).\n",
        "\n",
        "Given two strings str1 and str2, return the largest string x such that x divides both str1 and str2."
      ],
      "metadata": {
        "id": "TO5QkBRQeTdy"
      }
    },
    {
      "cell_type": "code",
      "source": [
        "def gcd_of_strings(str1, str2):\n",
        "    if str1 + str2 != str2 + str1:\n",
        "        return \"\"\n",
        "\n",
        "    from math import gcd\n",
        "    gcd_len = gcd(len(str1), len(str2))\n",
        "\n",
        "    return str1[:gcd_len]\n"
      ],
      "metadata": {
        "id": "QPBmbH9YI8bT"
      },
      "execution_count": null,
      "outputs": []
    },
    {
      "cell_type": "markdown",
      "source": [
        "There are n kids with candies. You are given an integer array candies, where each candies[i] represents the number of candies the ith kid has, and an integer extraCandies, denoting the number of extra candies that you have.\n",
        "\n",
        "Return a boolean array result of length n, where result[i] is true if, after giving the ith kid all the extraCandies, they will have the greatest number of candies among all the kids, or false otherwise.\n",
        "\n",
        "Note that multiple kids can have the greatest number of candies.\n",
        "\n"
      ],
      "metadata": {
        "id": "S5Eu61J8FuLG"
      }
    },
    {
      "cell_type": "code",
      "source": [
        "class Solution:\n",
        "    def kidsWithCandies(self, candies: List[int], extraCandies: int) -> List[bool]:\n",
        "        max_candies = max(candies)\n",
        "        return [True if (ith_count + extraCandies) >= max_candies else False for ith_count in candies]"
      ],
      "metadata": {
        "id": "48qSdnq8Fujg"
      },
      "execution_count": null,
      "outputs": []
    },
    {
      "cell_type": "markdown",
      "source": [],
      "metadata": {
        "id": "UtxHdKim_8hy"
      }
    },
    {
      "cell_type": "code",
      "source": [
        "insie = [1,0,0,0,0,1]\n",
        "def canPlaceFlowers( flowerbed, n) -> bool:\n",
        "    available_vacancies = 0\n",
        "    for i in range(len(flowerbed)):\n",
        "        if (i != 0):\n",
        "            if not any(flowerbed[i-1: i+2]):\n",
        "                available_vacancies += 1\n",
        "                flowerbed[i] = 1\n",
        "        else:\n",
        "            if not any(flowerbed[i: i+2]):\n",
        "                flowerbed[i] = 1\n",
        "                available_vacancies += 1\n",
        "    if available_vacancies >= n:\n",
        "        return True\n",
        "    else:\n",
        "        return False\n",
        "canPlaceFlowers(insie, 1)"
      ],
      "metadata": {
        "id": "9erKSNlpOTvM"
      },
      "execution_count": null,
      "outputs": []
    },
    {
      "cell_type": "markdown",
      "source": [],
      "metadata": {
        "id": "V95FX9xy_2FH"
      }
    },
    {
      "cell_type": "code",
      "source": [
        "def reverseWords(s):\n",
        "    word_list = [i for i in s.split(\" \") if i != \"\"]\n",
        "    word_list.reverse()\n",
        "\n",
        "    return \" \".join(word_list)\n",
        "\n",
        "s = \"  hello world  \"\n",
        "reverseWords(s)\n",
        "# output : \"world hello\""
      ],
      "metadata": {
        "id": "n_lLueYI89j2"
      },
      "execution_count": null,
      "outputs": []
    },
    {
      "cell_type": "markdown",
      "source": [
        "Given an integer array nums, return an array answer such that answer[i] is equal to the product of all the elements of nums except nums[i].\n",
        "\n",
        "The product of any prefix or suffix of nums is guaranteed to fit in a 32-bit integer.\n",
        "\n",
        "You must write an algorithm that runs in O(n) time and without using the division operation."
      ],
      "metadata": {
        "id": "KboqdZKaBQeu"
      }
    },
    {
      "cell_type": "code",
      "source": [
        "class Solution:\n",
        "    def productExceptSelf(self, nums: List[int]) -> List[int]:\n",
        "        n = len(nums)\n",
        "        output = [1] * n\n",
        "\n",
        "        # Compute prefix products\n",
        "        prefix = 1\n",
        "        for i in range(n):\n",
        "            output[i] = prefix\n",
        "            prefix *= nums[i]\n",
        "\n",
        "        # Compute suffix products and multiply with prefix\n",
        "        suffix = 1\n",
        "        for i in range(n - 1, -1, -1):\n",
        "            output[i] *= suffix\n",
        "            suffix *= nums[i]\n",
        "\n",
        "        return output\n"
      ],
      "metadata": {
        "id": "VpzXaaB0_0XJ"
      },
      "execution_count": null,
      "outputs": []
    },
    {
      "cell_type": "markdown",
      "source": [
        "Given an integer array nums, return true if there exists a triple of indices (i, j, k) such that i < j < k and nums[i] < nums[j] < nums[k]. If no such indices exists, return false."
      ],
      "metadata": {
        "id": "m0WwuyxNLR79"
      }
    },
    {
      "cell_type": "code",
      "source": [
        "class Solution:\n",
        "    def increasingTriplet(self, nums: List[int]) -> bool:\n",
        "        first = float('inf')\n",
        "        second = float('inf')\n",
        "\n",
        "        for num in nums:\n",
        "            if num <= first:\n",
        "                first = num\n",
        "            elif num <= second:\n",
        "                second = num\n",
        "            else:\n",
        "                return True\n",
        "\n",
        "        return False"
      ],
      "metadata": {
        "id": "Pr1n5Mp4LUIO"
      },
      "execution_count": null,
      "outputs": []
    },
    {
      "cell_type": "code",
      "source": [],
      "metadata": {
        "id": "JLKmV_6-HIC8"
      },
      "execution_count": null,
      "outputs": []
    },
    {
      "cell_type": "code",
      "source": [],
      "metadata": {
        "id": "cqS6wLL5HH_Z"
      },
      "execution_count": null,
      "outputs": []
    },
    {
      "cell_type": "code",
      "source": [
        "a = [5,6]\n",
        "a.append(5)"
      ],
      "metadata": {
        "id": "Z-YwXPjbHH75"
      },
      "execution_count": null,
      "outputs": []
    },
    {
      "cell_type": "code",
      "source": [
        "a.append(9)"
      ],
      "metadata": {
        "id": "cPa9tvv3HMOL"
      },
      "execution_count": null,
      "outputs": []
    },
    {
      "cell_type": "code",
      "source": [
        "a"
      ],
      "metadata": {
        "id": "_JboMf0uHMog"
      },
      "execution_count": null,
      "outputs": []
    },
    {
      "cell_type": "code",
      "source": [
        "def compress( chars):\n",
        "    ref_char = chars[0]\n",
        "    counter = 0\n",
        "    comp_list = []\n",
        "    for i in range(len(chars)):\n",
        "        if chars[i] == ref_char:\n",
        "            counter += 1\n",
        "            if counter > 9:\n",
        "                comp_list.append(ref_char)\n",
        "                comp_list.append(str(counter))\n",
        "                counter = 0\n",
        "        else:\n",
        "            if counter == 1:\n",
        "                comp_list.append(ref_char)\n",
        "                ref_char = chars[i]\n",
        "            else:\n",
        "                comp_list.append(ref_char)\n",
        "                comp_list.append(str(counter))\n",
        "                ref_char = chars[i]\n",
        "            counter = 1\n",
        "    if counter == 1:\n",
        "        comp_list.append(ref_char)\n",
        "    else:\n",
        "        comp_list.append(ref_char)\n",
        "        comp_list.append(str(counter))\n",
        "    return len(comp_list)\n",
        "\n",
        "\n",
        "compress([\"a\",\"a\",\"b\",\"b\",\"c\",\"c\",\"c\"])"
      ],
      "metadata": {
        "id": "CdDaDrNUHVDx"
      },
      "execution_count": null,
      "outputs": []
    },
    {
      "cell_type": "code",
      "source": [
        "def compress(self, chars: List[str]) -> int:\n",
        "\n",
        "    def get_seq(i):\n",
        "        j = 1\n",
        "        while j < (len(chars)-i):\n",
        "            if chars[i+j] != chars[i]:\n",
        "                break\n",
        "            j += 1\n",
        "        return j\n",
        "\n",
        "    i, pw = 0, 0\n",
        "\n",
        "    while i<len(chars):\n",
        "        num_rep = get_seq(i)\n",
        "        chars[pw] = chars[i]\n",
        "        pw += 1\n",
        "        if num_rep > 1:\n",
        "            for c in str(num_rep):\n",
        "                chars[pw] = c\n",
        "                pw += 1\n",
        "\n",
        "        i += num_rep\n",
        "\n",
        "    return pw"
      ],
      "metadata": {
        "id": "jmOdarIcKI4a"
      },
      "execution_count": null,
      "outputs": []
    },
    {
      "cell_type": "markdown",
      "source": [
        "Given an array of characters chars, compress it using the following algorithm:\n",
        "\n",
        "Begin with an empty string s. For each group of consecutive repeating characters in chars:\n",
        "\n",
        "If the group's length is 1, append the character to s.\n",
        "Otherwise, append the character followed by the group's length.\n",
        "The compressed string s should not be returned separately, but instead, be stored in the input character array chars. Note that group lengths that are 10 or longer will be split into multiple characters in chars.\n",
        "\n",
        "After you are done modifying the input array, return the new length of the array.\n",
        "\n",
        "You must write an algorithm that uses only constant extra space.\n",
        "\n",
        "\n",
        "\n",
        "Example 1:\n",
        "\n",
        "Input: chars = [\"a\",\"a\",\"b\",\"b\",\"c\",\"c\",\"c\"]\n",
        "Output: Return 6, and the first 6 characters of the input array should be: [\"a\",\"2\",\"b\",\"2\",\"c\",\"3\"]\n",
        "Explanation: The groups are \"aa\", \"bb\", and \"ccc\". This compresses to \"a2b2c3\".\n",
        "Example 2:\n",
        "\n",
        "Input: chars = [\"a\"]\n",
        "Output: Return 1, and the first character of the input array should be: [\"a\"]\n",
        "Explanation: The only group is \"a\", which remains uncompressed since it's a single character.\n",
        "Example 3:\n",
        "\n",
        "Input: chars = [\"a\",\"b\",\"b\",\"b\",\"b\",\"b\",\"b\",\"b\",\"b\",\"b\",\"b\",\"b\",\"b\"]\n",
        "Output: Return 4, and the first 4 characters of the input array should be: [\"a\",\"b\",\"1\",\"2\"].\n",
        "Explanation: The groups are \"a\" and \"bbbbbbbbbbbb\". This compresses to \"ab12\".\n"
      ],
      "metadata": {
        "id": "Rm4M6pHZxVHA"
      }
    },
    {
      "cell_type": "code",
      "source": [
        "class Solution:\n",
        "    def compress(self, chars: List[str]) -> int:\n",
        "\n",
        "        def get_seq(i):\n",
        "            j = 1\n",
        "            while j < (len(chars)-i):\n",
        "                if chars[i+j] != chars[i]:\n",
        "                    break\n",
        "                j += 1\n",
        "            return j\n",
        "\n",
        "        i, pw = 0, 0\n",
        "\n",
        "        while i<len(chars):\n",
        "            num_rep = get_seq(i)\n",
        "            chars[pw] = chars[i]\n",
        "            pw += 1\n",
        "            if num_rep > 1:\n",
        "                for c in str(num_rep):\n",
        "                    chars[pw] = c\n",
        "                    pw += 1\n",
        "\n",
        "            i += num_rep\n",
        "\n",
        "        return pw"
      ],
      "metadata": {
        "id": "4xjGq5Z4xU24"
      },
      "execution_count": null,
      "outputs": []
    },
    {
      "cell_type": "markdown",
      "source": [
        "Given an integer array nums, move all 0's to the end of it while maintaining the relative order of the non-zero elements.\n",
        "\n",
        "Note that you must do this in-place without making a copy of the array."
      ],
      "metadata": {
        "id": "zxvJIUdu__Az"
      }
    },
    {
      "cell_type": "code",
      "source": [
        "class Solution:\n",
        "    def moveZeroes(self, nums: List[int]) -> None:\n",
        "        \"\"\"\n",
        "        Do not return anything, modify nums in-place instead.\n",
        "        \"\"\"\n",
        "        insert_pos = 0\n",
        "\n",
        "        for num in nums:\n",
        "            if num != 0:\n",
        "                nums[insert_pos] = num\n",
        "                insert_pos += 1\n",
        "\n",
        "        while insert_pos < len(nums):\n",
        "            nums[insert_pos] = 0\n",
        "            insert_pos += 1\n"
      ],
      "metadata": {
        "id": "j-6CT7Lw__iX"
      },
      "execution_count": null,
      "outputs": []
    },
    {
      "cell_type": "markdown",
      "source": [
        "Given two strings s and t, return true if s is a subsequence of t, or false otherwise.\n",
        "\n",
        "A subsequence of a string is a new string that is formed from the original string by deleting some (can be none) of the characters without disturbing the relative positions of the remaining characters. (i.e., \"ace\" is a subsequence of \"abcde\" while \"aec\" is not)."
      ],
      "metadata": {
        "id": "5EDD2SWYW0NP"
      }
    },
    {
      "cell_type": "code",
      "source": [
        "class Solution:\n",
        "    def isSubsequence(self, s: str, t: str) -> bool:\n",
        "        pointer_s = 0\n",
        "        pointer_t = 0\n",
        "        while (pointer_s < len(s)) and (pointer_t < len(t)):\n",
        "            if s[pointer_s] == t[pointer_t]:\n",
        "                pointer_s += 1\n",
        "            pointer_t += 1\n",
        "        return pointer_s == len(s)\n"
      ],
      "metadata": {
        "id": "aZTkvtj7W0ik"
      },
      "execution_count": null,
      "outputs": []
    },
    {
      "cell_type": "code",
      "source": [
        "nums=[67,44,76,8,63,78,65,47,7,20,61,55,11,89,38,1,62,25,52,79,46,18,60,67,5,40,20,4,8,40,26,13,21,21,32,17,7,27,9,45,87,14,5,73,66,75,34,48,50,72,72,81,25,71,58,84,25,84,81,48,65,42,28,50,80,50,15,79,60,40,64,57,13,31,31,18,16,43,18,41,88,28,30,61,73,37,85,88,33,55,52,55,30,45,63,38,53,4,81,80,14,53,31,21,67,27,90,47,85,28,12,87,57,65,86,82,16,61,60,70,38,36,10,61,10,42,2,20,11,48,32,57,67,27,81,44,86,14,80,8,26,71,72,48,75,53,18,83,48,41,10,65,37,9,68,44,5,14,77,5,61,67,58,57,47,75,31,40,60,71,50,4,35,88,40,49,41,73,16,68,71,81,43,76,86,44,77,37,8,17,76,31,49,58,57,35,51,77,53,41,57,36,18,83,51,27,42,23,90,20,21,82,69,63,29,8,90,69,1,59,70,4,36,35,49,24,29,25,19,22,17,18,56,49,87,54,90,25,30,22,20,52,16,34,29,83,49,58,69,8,55,56,60,69,31,52,14,67,54,50,31,32,37,62,3,70,12,35,4,44,88,44,5,45,79,46,49,51,76,23,73,75,17,76,58,27,9,2,27,52,8,31,57,75,16,82,50,90,34,5,16,76,6,61,51,11,26,8,80,73,86,83,86,28,60,23,35,24,6,69,24,19,43,62,59,66,13,80,38,18,69,55,22,14,33,47,89,79,26,31,90,83,64,89,52,20,71,19,53,46,30,43,22,28,72,27,9,30,68,47,73,20,5,51,84,87,31,71,51,38,28,16,87,55,30,11,85,22,60,1,69,72,87,35,23,69,11,8,1,54,34,61,40,51,57,65,86,49,77,8,72,15,46,68,61,68,14,3,32,53,28,4,31,80,78,83,52,8,40,88,58,73,29,24,2,11,71,87,82,81,2,88,54,85,25,61,83,6,72]\n",
        "k=16"
      ],
      "metadata": {
        "id": "8qvSsg27GkPX"
      },
      "execution_count": null,
      "outputs": []
    },
    {
      "cell_type": "code",
      "source": [
        "# nums = [1,2,3,4] ; k=5\n",
        "#nums = [3,1,3,4,3] ; k=6\n",
        "# nums = [4,4,1,3,1,3,2,2,5,5,1,5,2,1,2,3,5,4]; k =2\n",
        "class Solution:\n",
        "    def maxOperations(self, nums: List[int], k: int) -> int:\n",
        "        first_pt = 0\n",
        "        sec_pt = 1\n",
        "        count = 0\n",
        "        while first_pt < len(nums):\n",
        "            if sec_pt < len(nums):\n",
        "                if nums[first_pt] + nums[sec_pt] == k:\n",
        "                    nums.pop(sec_pt)\n",
        "                    nums.pop(first_pt)\n",
        "                    count += 1\n",
        "                    sec_pt = first_pt + 1\n",
        "                else:\n",
        "                    sec_pt += 1\n",
        "            else:\n",
        "                first_pt += 1\n",
        "                sec_pt = first_pt + 1\n",
        "\n",
        "        return count\n",
        "\n",
        "# improvised\n",
        "\n",
        "class Solution:\n",
        "    def maxOperations(self, nums: List[int], k: int) -> int:\n",
        "        nums.sort()  # O(n log n)\n",
        "        left, right = 0, len(nums) - 1\n",
        "        count = 0\n",
        "\n",
        "        while left < right:\n",
        "            current_sum = nums[left] + nums[right]\n",
        "            if current_sum == k:\n",
        "                count += 1\n",
        "                left += 1\n",
        "                right -= 1\n",
        "            elif current_sum < k:\n",
        "                left += 1  # Need larger sum\n",
        "            else:\n",
        "                right -= 1  # Need smaller sum\n",
        "\n",
        "        return count\n"
      ],
      "metadata": {
        "id": "mwVt0-ZkYHJq"
      },
      "execution_count": null,
      "outputs": []
    }
  ]
}